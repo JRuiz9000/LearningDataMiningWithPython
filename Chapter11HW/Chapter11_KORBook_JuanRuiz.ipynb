{
 "cells": [
  {
   "cell_type": "code",
   "execution_count": 8,
   "metadata": {},
   "outputs": [],
   "source": [
    "#April 18, 2020 \n",
    "#Set up data filename, only look at first batch initially and scale up to the full data style\n",
    "import os \n",
    "data_folder = os.path.join(os.path.expanduser(\"~\"), \"OneDrive\", \"Desktop\", \"Data Mining\", \"Chapter11HW\", \"Data\", \"Datasets\", \"cifar-10-batches-py\")\n",
    "batch1_filename = os.path.join(data_folder, \"data_batch_1\")"
   ]
  },
  {
   "cell_type": "code",
   "execution_count": 9,
   "metadata": {},
   "outputs": [],
   "source": [
    "#Create function that reads data stored in batches\n",
    "#Saved using pickle, python library to save objects, calls pickle.load(file) to get the object but set encoding to latin to open it (Python 3)\n",
    "import pickle\n",
    "# Bugfix thanks to: http://stackoverflow.com/questions/11305790/pickle-incompatibility-of-numpy-arrays-between-python-2-and-3\n",
    "def unpickle(filename):\n",
    "    with open(filename, 'rb') as fo:\n",
    "        return pickle.load(fo, encoding='latin1')"
   ]
  },
  {
   "cell_type": "code",
   "execution_count": 10,
   "metadata": {},
   "outputs": [],
   "source": [
    "#Load the batch dataset which is a dictionary that contains actual data in the form of numpy arrays, labels and filenames and note to say what batch it is\n",
    "batch1 = unpickle(batch1_filename)"
   ]
  },
  {
   "cell_type": "code",
   "execution_count": 11,
   "metadata": {},
   "outputs": [],
   "source": [
    "#Extract an image using the index in the batch data key\n",
    "image_index = 100\n",
    "image = batch1['data'][image_index]"
   ]
  },
  {
   "cell_type": "code",
   "execution_count": 12,
   "metadata": {},
   "outputs": [],
   "source": [
    "#Image array is Numpy Array with 3072 entries, from 0 to 255, which has red, green and blue intensity at a location in range\n",
    "#Reshapes array and rotate the matrix to display in matplotlib\n",
    "image = image.reshape((32, 32, 3), order='F')\n",
    "import numpy as np\n",
    "image = np.rot90(image, -1)"
   ]
  },
  {
   "cell_type": "code",
   "execution_count": 13,
   "metadata": {},
   "outputs": [
    {
     "data": {
      "text/plain": [
       "<matplotlib.image.AxesImage at 0x24f12f97ac8>"
      ]
     },
     "execution_count": 13,
     "metadata": {},
     "output_type": "execute_result"
    },
    {
     "data": {
      "image/png": "[encoded data removed]",
      "text/plain": [
       "<Figure size 432x288 with 1 Axes>"
      ]
     },
     "metadata": {
      "needs_background": "light"
     },
     "output_type": "display_data"
    }
   ],
   "source": [
    "#Display the image using matplotlib, which is a boat\n",
    "#32 pixels long and wide\n",
    "%matplotlib inline\n",
    "\n",
    "from matplotlib import pyplot as plt\n",
    "plt.imshow(image)"
   ]
  },
  {
   "cell_type": "code",
   "execution_count": null,
   "metadata": {},
   "outputs": [],
   "source": []
  }
 ],
 "metadata": {
  "kernelspec": {
   "display_name": "Python 3",
   "language": "python",
   "name": "python3"
  },
  "language_info": {
   "codemirror_mode": {
    "name": "ipython",
    "version": 3
   },
   "file_extension": ".py",
   "mimetype": "text/x-python",
   "name": "python",
   "nbconvert_exporter": "python",
   "pygments_lexer": "ipython3",
   "version": "3.7.4"
  }
 },
 "nbformat": 4,
 "nbformat_minor": 2
}
