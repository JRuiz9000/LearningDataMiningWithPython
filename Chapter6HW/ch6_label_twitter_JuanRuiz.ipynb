{
 "cells": [
  {
   "cell_type": "code",
   "execution_count": 15,
   "metadata": {},
   "outputs": [],
   "source": [
    "#Uses the json library, splits the file by new lines to get the tweet objects\n",
    "#First loads the data from the input filename by iterating over the file, storing tweets as the loop occurs\n",
    "#Runs a basic check to see if there is text in the tweet, if so, json library loads the tweet then adds to a list\n",
    "import json\n",
    "import os\n",
    "\n",
    "# Input filename\n",
    "input_filename = os.path.join(os.path.expanduser(\"~\"), \"OneDrive\", \"Desktop\", \"Data Mining\", \"Chapter6HW\", \"Data\", \"Datasets\", \"twitter\", \"python_tweets.json\")\n",
    "# Output filename\n",
    "labels_filename = os.path.join(os.path.expanduser(\"~\"), \"OneDrive\", \"Desktop\", \"Data Mining\", \"Chapter6HW\", \"Data\", \"Datasets\", \"twitter\", \"python_classes.json\")\n",
    "\n",
    "tweets = []\n",
    "with open(input_filename) as inf:\n",
    "    for line in inf:\n",
    "        if len(line.strip()) == 0:\n",
    "            continue\n",
    "        tweets.append(json.loads(line))"
   ]
  },
  {
   "cell_type": "code",
   "execution_count": 16,
   "metadata": {},
   "outputs": [],
   "source": [
    "#Jupyter allows embedding of HTML and talk between Javascript and Python\n",
    "#Creates viewer of tweet to classify tweets as spam or not, presents a new tweet to the user and asks for label \n",
    "#Determines if it is relevant or not, stores the input and presents the next tweet to be labeled\n",
    "#Creates a list for storing labels, whether or not it refers to the Python language and teaches classifier to distinguish meanings\n",
    "#Loads any labels midway, usually from where you left off at a midpoint, becomes efficient\n",
    "labels = []\n",
    "if os.path.exists(labels_filename):\n",
    "    with open(labels_filename) as inf:\n",
    "        labels = json.load(inf)\n",
    "\n"
   ]
  },
  {
   "cell_type": "code",
   "execution_count": 17,
   "metadata": {},
   "outputs": [],
   "source": [
    "#Creates function to return the next tweet to be labelled, gets the next tweet in tweet_sample list\n",
    "def get_next_tweet():\n",
    "    return tweets[len(labels)]['text']"
   ]
  },
  {
   "cell_type": "code",
   "execution_count": 21,
   "metadata": {},
   "outputs": [
    {
     "ename": "SyntaxError",
     "evalue": "invalid syntax (<ipython-input-21-7a48215c579d>, line 10)",
     "output_type": "error",
     "traceback": [
      "\u001b[1;36m  File \u001b[1;32m\"<ipython-input-21-7a48215c579d>\"\u001b[1;36m, line \u001b[1;32m10\u001b[0m\n\u001b[1;33m    <div id=\"myTweetBox\">\u001b[0m\n\u001b[1;37m    ^\u001b[0m\n\u001b[1;31mSyntaxError\u001b[0m\u001b[1;31m:\u001b[0m invalid syntax\n"
     ]
    }
   ],
   "source": [
    "#Collect information from the user on which tweets discuss the Python programming language and which dont\n",
    "#Uses Javascript and HTML to account for Python unable to process large text documents in Jupyter Notebooks\n",
    "#Uses Javascript component to load tweet and display it\n",
    "#HTML component to create elements that display the tweet\n",
    "#function load_next_tweet: Obtains next tweet to be classified\n",
    "#function handle_output(out): Shows tweet to the user\n",
    "#$(\"input#capture\").keypress(function(e): Waits for user to press 0 or 1\n",
    "#set_label(1):Stores result in the classes list\n",
    "%%html\n",
    "<div name=\"tweetbox\">\n",
    "    Instructions: Click in text box. Enter a 1 if the tweet is relevant, enter 0 otherwise.<br>\n",
    "    Tweet: <div id=\"tweet_text\" value=\"text\"></div><br>\n",
    "    <input type=text id=\"capture\"></input><br>\n",
    "</div>\n",
    "\n",
    "<script>\n",
    "function set_label(label){\n",
    "    var kernel = IPython.notebook.kernel;\n",
    "    kernel.execute(\"labels.append(\" + label + \")\");\n",
    "    load_next_tweet();\n",
    "}\n",
    "\n",
    "function load_next_tweet(){\n",
    "   var code_input = \"get_next_tweet()\";\n",
    "   var kernel = IPython.notebook.kernel;\n",
    "   var callbacks = { 'iopub' : {'output' : handle_output}};\n",
    "   kernel.execute(code_input, callbacks, {silent:false});\n",
    "}\n",
    "\n",
    "function handle_output(out){\n",
    "   console.log(out);\n",
    "   var res = out.content.data[\"text/plain\"];\n",
    "   $(\"div#tweet_text\").html(res);\n",
    "}\n",
    "\n",
    "$(\"input#capture\").keypress(function(e) {\n",
    "    console.log(e);\n",
    "      if(e.which == 48) {\n",
    "        // 0 pressed\n",
    "        set_label(0);\n",
    "        $(\"input#capture\").val(\"\");\n",
    "      }else if (e.which == 49){\n",
    "        // 1 pressed\n",
    "        set_label(1);  \n",
    "        $(\"input#capture\").val(\"\");\n",
    "      }\n",
    "});\n",
    "\n",
    "load_next_tweet();\n",
    "</script>\n",
    "   "
   ]
  },
  {
   "cell_type": "code",
   "execution_count": null,
   "metadata": {},
   "outputs": [],
   "source": [
    "#Saves Progress Without Interrupting HTML Code \n",
    "with open(labels_filename, 'w') as outf:\n",
    "    json.dump(labels, outf)"
   ]
  },
  {
   "cell_type": "code",
   "execution_count": null,
   "metadata": {},
   "outputs": [],
   "source": []
  }
 ],
 "metadata": {
  "kernelspec": {
   "display_name": "Python 3",
   "language": "python",
   "name": "python3"
  },
  "language_info": {
   "codemirror_mode": {
    "name": "ipython",
    "version": 3
   },
   "file_extension": ".py",
   "mimetype": "text/x-python",
   "name": "python",
   "nbconvert_exporter": "python",
   "pygments_lexer": "ipython3",
   "version": "3.7.4"
  }
 },
 "nbformat": 4,
 "nbformat_minor": 2
}
