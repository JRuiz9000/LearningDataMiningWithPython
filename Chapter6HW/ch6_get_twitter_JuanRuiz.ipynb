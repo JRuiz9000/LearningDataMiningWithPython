{
 "cells": [
  {
   "cell_type": "code",
   "execution_count": 1,
   "metadata": {},
   "outputs": [],
   "source": [
    "#March 6, 2020\n",
    "#Notebook used to download new Twitter Data\n",
    "#Imports Twitter Library And Set Authorization Tokens From Twitter App Page\n",
    "import twitter\n",
    "consumer_key = \"I3MtCPEfecYhtXiTZ5KYVWphk\"\n",
    "consumer_secret = \"1J8jSkBBrmUE7EJKofdnKuKMsxWrF3ajPmcTGakMuNGyzKWpKl\"\n",
    "access_token = \"1118431530-7PJHNpHjCZA3uKY0etuszV5szKz6QVdNsXjjVhX\"\n",
    "access_token_secret = \"8HdBjlwSQ6FRRO37xGw23UoQBBIROsA6KgTG8vjBCzdwf\"\n",
    "authorization = twitter.OAuth(access_token, access_token_secret, consumer_key, consumer_secret)"
   ]
  },
  {
   "cell_type": "code",
   "execution_count": 2,
   "metadata": {},
   "outputs": [
    {
     "name": "stdout",
     "output_type": "stream",
     "text": [
      "C:\\Users\\JRuiz\\OneDrive\\Desktop\\Data Mining\\Chapter6HW\\Data\\Datasets\\twitter\\python_tweets.json\n"
     ]
    }
   ],
   "source": [
    "#Get Tweets using Twitter's search function\n",
    "#Creates reader that connects to Twitter and use the reader to perform searches\n",
    "#Sets filename where Tweets are stored\n",
    "import os\n",
    "output_filename = os.path.join(os.path.expanduser(\"~\"), \"OneDrive\", \"Desktop\", \"Data Mining\", \"Chapter6HW\", \"Data\", \"Datasets\", \"twitter\", \"python_tweets.json\")\n",
    "print(output_filename)"
   ]
  },
  {
   "cell_type": "code",
   "execution_count": 3,
   "metadata": {},
   "outputs": [],
   "source": [
    "#Creates readable object from Twitter using the authorization object from before in the first portion of program\n",
    "t = twitter.Twitter(auth=authorization)"
   ]
  },
  {
   "cell_type": "code",
   "execution_count": 4,
   "metadata": {},
   "outputs": [
    {
     "name": "stdout",
     "output_type": "stream",
     "text": [
      "Saved 100 entries\n"
     ]
    }
   ],
   "source": [
    "#Open output file for writing (appending), rerun the script to get more tweets\n",
    "#Use the Twitter connection to perform a search for the word 'PYTHON'\n",
    "#Use the status that are returned for the data set by taking the tweet, use JSON library to create string representation\n",
    "#Use dumps function and writes to the file, creates blank line under the tweet for organization, distinguish\n",
    "import json\n",
    "\n",
    "n_output = 0\n",
    "\n",
    "with open(output_filename, 'a') as output_file:\n",
    "    search_results = t.search.tweets(q=\"python\", count=100)['statuses']\n",
    "    for tweet in search_results:\n",
    "        if 'text' in tweet: #Check to see if there is text in the tweet or not\n",
    "            output_file.write(json.dumps(tweet)) #Note: not all objects will be actual tweets, text is used as a key\n",
    "            output_file.write(\"\\n\\n\")\n",
    "            n_output += 1\n",
    "\n",
    "print(\"Saved {} entries\".format(n_output)) #Adds about 100 tweets to output file"
   ]
  },
  {
   "cell_type": "code",
   "execution_count": null,
   "metadata": {},
   "outputs": [],
   "source": []
  }
 ],
 "metadata": {
  "kernelspec": {
   "display_name": "Python 3",
   "language": "python",
   "name": "python3"
  },
  "language_info": {
   "codemirror_mode": {
    "name": "ipython",
    "version": 3
   },
   "file_extension": ".py",
   "mimetype": "text/x-python",
   "name": "python",
   "nbconvert_exporter": "python",
   "pygments_lexer": "ipython3",
   "version": "3.7.4"
  }
 },
 "nbformat": 4,
 "nbformat_minor": 2
}
