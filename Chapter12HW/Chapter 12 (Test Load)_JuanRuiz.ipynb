{
 "cells": [
  {
   "cell_type": "code",
   "execution_count": 1,
   "metadata": {},
   "outputs": [],
   "source": [
    "#April 26, 2020\n",
    "#Apply MapReduce using a Naive Bayes method trained in MapReduct\n",
    "#Predict gender of a writer based on use of different words\n",
    "#Uses Blogger ID, Gender, Age, Indutry and Star Sign, From August 2004 , 140 million words, 600,000 posts\n",
    "import os\n",
    "filename = os.path.join(os.path.expanduser(\"~\"), \"OneDrive\", \"Desktop\", \"Data Mining\", \"Chapter12HW\", \"Data\", \"blogs\", \"1005545.male.25.Engineering.Sagittarius.xml\")"
   ]
  },
  {
   "cell_type": "code",
   "execution_count": 2,
   "metadata": {},
   "outputs": [],
   "source": [
    "#Create a list to help us store each poet, open the file to read\n",
    "all_posts = []\n",
    "with open(filename) as inf:\n",
    "    # remove leading and trailing whitespace\n",
    "    post_start = False\n",
    "    post = []\n",
    "    for line in inf:\n",
    "        line = line.strip()\n",
    "        if line == \"<post>\":\n",
    "            post_start = True\n",
    "        elif line == \"</post>\":\n",
    "            post_start = False\n",
    "            all_posts.append(\"\\n\".join(post))\n",
    "            post = []\n",
    "        elif post_start:\n",
    "            post.append(line)"
   ]
  },
  {
   "cell_type": "code",
   "execution_count": 3,
   "metadata": {},
   "outputs": [
    {
     "data": {
      "text/plain": [
       "80"
      ]
     },
     "execution_count": 3,
     "metadata": {},
     "output_type": "execute_result"
    }
   ],
   "source": [
    "#Display the length of all posts, print(all_posts[0])\n",
    "len(all_posts)"
   ]
  },
  {
   "cell_type": "code",
   "execution_count": null,
   "metadata": {},
   "outputs": [],
   "source": []
  }
 ],
 "metadata": {
  "kernelspec": {
   "display_name": "Python 3",
   "language": "python",
   "name": "python3"
  },
  "language_info": {
   "codemirror_mode": {
    "name": "ipython",
    "version": 3
   },
   "file_extension": ".py",
   "mimetype": "text/x-python",
   "name": "python",
   "nbconvert_exporter": "python",
   "pygments_lexer": "ipython3",
   "version": "3.7.4"
  }
 },
 "nbformat": 4,
 "nbformat_minor": 2
}
